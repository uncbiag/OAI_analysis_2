{
 "cells": [
  {
   "cell_type": "code",
   "execution_count": null,
   "id": "61de5f4b",
   "metadata": {},
   "outputs": [],
   "source": [
    "# Install packages if not present\n",
    "\n",
    "#pip install coiled==0.2.13\n",
    "#pip install dask==2022.03.0\n",
    "#pip install itk==5.3rc4.post2\n",
    "#pip install vtk\n",
    "#pip install git+https://github.com/uncbiag/OAI_analysis_2.git"
   ]
  },
  {
   "cell_type": "code",
   "execution_count": 1,
   "id": "7ca4587d",
   "metadata": {},
   "outputs": [],
   "source": [
    "# All Imports\n",
    "\n",
    "import coiled\n",
    "import dask\n",
    "from dask import compute, visualize, delayed\n",
    "\n",
    "import time\n",
    "import random\n",
    "import itk\n",
    "import vtk\n",
    "import oai_analysis_2\n",
    "from oai_analysis_2 import dask_processing as dp"
   ]
  },
  {
   "cell_type": "code",
   "execution_count": 2,
   "id": "a4e2c318",
   "metadata": {},
   "outputs": [
    {
     "data": {
      "application/vnd.jupyter.widget-view+json": {
       "model_id": "2d263cdac68d4cd1accbe49d22ca6c8c",
       "version_major": 2,
       "version_minor": 0
      },
      "text/plain": [
       "Output()"
      ]
     },
     "metadata": {},
     "output_type": "display_data"
    },
    {
     "data": {
      "text/html": [
       "<pre style=\"white-space:pre;overflow-x:auto;line-height:normal;font-family:Menlo,'DejaVu Sans Mono',consolas,'Courier New',monospace\"></pre>\n"
      ],
      "text/plain": []
     },
     "metadata": {},
     "output_type": "display_data"
    },
    {
     "name": "stderr",
     "output_type": "stream",
     "text": [
      "Mismatched versions found\n",
      "\n",
      "+-------------+-----------+-----------+---------+\n",
      "| Package     | client    | scheduler | workers |\n",
      "+-------------+-----------+-----------+---------+\n",
      "| cloudpickle | 2.0.0     | 2.1.0     | None    |\n",
      "| dask        | 2022.03.0 | 2022.6.0  | None    |\n",
      "| distributed | 2022.3.0  | 2022.6.0  | None    |\n",
      "+-------------+-----------+-----------+---------+\n"
     ]
    }
   ],
   "source": [
    "# Start Coiled Cluster\n",
    "# Enter Token when asked\n",
    "\n",
    "import coiled\n",
    "import dask\n",
    "from dask import compute, visualize, delayed\n",
    "\n",
    "cluster = coiled.Cluster(\n",
    "    name='gpucluster',\n",
    "    scheduler_vm_types=['t3.medium'],\n",
    "    worker_vm_types=[\"g4dn.2xlarge\", \"p3.2xlarge\", \"p2.xlarge\", \"g5.2xlarge\"],\n",
    "    n_workers=6,\n",
    "    software=\"pranjal-sahu/oaiimageanalysis\",\n",
    "    shutdown_on_close=True,\n",
    ")\n",
    "\n",
    "client = dask.distributed.Client(cluster)"
   ]
  },
  {
   "cell_type": "code",
   "execution_count": null,
   "id": "e5ad253d",
   "metadata": {
    "code_folding": []
   },
   "outputs": [],
   "source": [
    "# Main execution loop\n",
    "# Change the patients_array and months_array based on requirements.\n",
    "# Following code will run the computation on all samples.\n",
    "\n",
    "atlas_path = \"s3://oaisample1/ZARRDATA/atlas_image.zarr/scale0\"\n",
    "write_path = \"/data/OAIFULLDATA/RESULTS1/\"\n",
    "\n",
    "patients_array = [\n",
    "    '9283903', '9094865', '9290211', '9171580', '9214480', '9208055',\n",
    "    '9000798', '9138965', '9246995', '9291234', '9068305', '9101854',\n",
    "    '9316405', '9305065', '9075815', '9036316', '9155449', '9247140',\n",
    "    '9128011', '9297051', '9285212', '9054866', '9007827', '9261513',\n",
    "    '9263504', '9037823', '9021791', '9210505', '9239017', '9268652', \n",
    "    '9135902', '9252629', '9028786', '9277154', '9103365', \n",
    "    '9016304', '9233675', '9235073', '9212530', '9040390'\n",
    "]\n",
    "\n",
    "months_array = [\n",
    "    'Month-0', 'Month-12', 'Month-24', 'Month-36', 'Month-48', 'Month-72',\n",
    "    'Month-96'\n",
    "]\n",
    "\n",
    "counter = 0\n",
    "\n",
    "print(time.time())\n",
    "random.shuffle(patients_array)\n",
    "\n",
    "for patient_id in patients_array:\n",
    "    import time\n",
    "    print('Processing ', patient_id, time.time())\n",
    "    patient_result = []\n",
    "    for month in months_array:\n",
    "        image_path = \"s3://oaisample1/ZARRDATA/PatientID-\" + patient_id + '/' + month + '/Images/SAG_3D_DESS_0.zarr/scale0'\n",
    "        \n",
    "        fc_probmap, tc_probmap = dp.segment_method(image_path)\n",
    "        phi_AB, image_A, image_B = dp.register_images_delayed(image_path, atlas_path)\n",
    "\n",
    "        deformed_fc = dp.deform_probmap_delayed(phi_AB, image_A, image_B,\n",
    "                                             fc_probmap, 'FC')\n",
    "        deformed_tc = dp.deform_probmap_delayed(phi_AB, image_A, image_B,\n",
    "                                             tc_probmap, 'TC')\n",
    "        thickness_fc = dp.get_thickness(deformed_fc, 'FC')\n",
    "        thickness_tc = dp.get_thickness(deformed_tc, 'TC')\n",
    "        \n",
    "        patient_result.append([thickness_fc, thickness_tc])\n",
    "    \n",
    "    output_result = compute(*patient_result)\n",
    "    for result in output_result:\n",
    "        itk.meshwrite(\n",
    "            result[0], write_path + patient_id + '_' +\n",
    "            str(counter) + '_itk_distance_inner_FC.vtk')\n",
    "        itk.meshwrite(\n",
    "            result[1], write_path + patient_id + '_' +\n",
    "            str(counter) + '_itk_distance_inner_TC.vtk')\n",
    "        counter = counter + 1\n",
    "    \n",
    "print(time.time())"
   ]
  },
  {
   "cell_type": "code",
   "execution_count": null,
   "id": "040cc8b9",
   "metadata": {},
   "outputs": [],
   "source": [
    "# Close the cluster after computation\n",
    "\n",
    "cluster.close()"
   ]
  }
 ],
 "metadata": {
  "kernelspec": {
   "display_name": "Python 3 (ipykernel)",
   "language": "python",
   "name": "python3"
  },
  "language_info": {
   "codemirror_mode": {
    "name": "ipython",
    "version": 3
   },
   "file_extension": ".py",
   "mimetype": "text/x-python",
   "name": "python",
   "nbconvert_exporter": "python",
   "pygments_lexer": "ipython3",
   "version": "3.8.12"
  }
 },
 "nbformat": 4,
 "nbformat_minor": 5
}
